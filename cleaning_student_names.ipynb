{
 "cells": [
  {
   "cell_type": "code",
   "execution_count": null,
   "id": "da722beb",
   "metadata": {},
   "outputs": [],
   "source": [
    "# Import dependencies\n",
    "import pandas as pd"
   ]
  },
  {
   "cell_type": "code",
   "execution_count": null,
   "id": "bde54596",
   "metadata": {},
   "outputs": [],
   "source": [
    "student_data_to_load = \"Resources/students_complete.csv\"\n",
    "\n",
    "student_data_df = pd.read_csv(student_data_to_load)\n",
    "student_data_df.head()"
   ]
  },
  {
   "cell_type": "code",
   "execution_count": null,
   "id": "2aaf8152",
   "metadata": {},
   "outputs": [],
   "source": [
    "# Put the student names in a list.\n",
    "student_names = student_data_df[\"student_name\"].tolist()\n",
    "student_names"
   ]
  },
  {
   "cell_type": "code",
   "execution_count": null,
   "id": "aa9f0434",
   "metadata": {},
   "outputs": [],
   "source": [
    "# Split the student name and determine the length of the split name.\n",
    "for name in student_names:\n",
    "    print(name.split(), len(name.split()))"
   ]
  },
  {
   "cell_type": "code",
   "execution_count": null,
   "id": "329cb7a7",
   "metadata": {},
   "outputs": [],
   "source": [
    "# Create a new list and use it for the for loop to iterate through the list\n",
    "students_to_fix = []\n",
    "\n",
    "# Use an if statement to check the length of the name.\n",
    "\n",
    "# If the name is greater than or equal to \"3\", add the name to the list.\n",
    "\n",
    "for name in student_names:\n",
    "    if len(name.split()) >= 3:\n",
    "        students_to_fix.append(name)\n",
    "\n",
    "# Get the length of the students whose names are greater than or equal to \"3\"\n",
    "len(students_to_fix)"
   ]
  },
  {
   "cell_type": "code",
   "execution_count": null,
   "id": "7c2def21",
   "metadata": {},
   "outputs": [],
   "source": [
    "# Add the prefixes less than or equal to 4 to a new list.\n",
    "prefixes = []\n",
    "for name in students_to_fix:\n",
    "    if len(name.split()[0]) <= 4:\n",
    "        prefixes.append(name.split()[0])\n",
    "        \n",
    "print(prefixes)"
   ]
  },
  {
   "cell_type": "code",
   "execution_count": null,
   "id": "d22b97e6",
   "metadata": {},
   "outputs": [],
   "source": [
    "# Add the suffixes less than or equal to 3 to a new list\n",
    "suffixes = []\n",
    "for name in students_to_fix:\n",
    "    if len(name.split()[-1]) <= 3:\n",
    "        suffixes.append(name.split()[-1])\n",
    "        \n",
    "print(suffixes)"
   ]
  },
  {
   "cell_type": "code",
   "execution_count": null,
   "id": "dfec0da6",
   "metadata": {},
   "outputs": [],
   "source": [
    "# Get the unique items in the \"prefixes\" list.\n",
    "set(prefixes)"
   ]
  },
  {
   "cell_type": "code",
   "execution_count": null,
   "id": "4aae6829",
   "metadata": {},
   "outputs": [],
   "source": [
    "# Get the uniquw items in the \"suffixes\" list.\n",
    "set(suffixes)"
   ]
  },
  {
   "cell_type": "code",
   "execution_count": null,
   "id": "d2966430",
   "metadata": {},
   "outputs": [],
   "source": [
    "# Add each prefix and suffix to remove to a list.\n",
    "prefixes_suffixes = [\"Dr. \", \"Mr. \", \"Ms. \", \"Mrs. \", \"Miss. \", \" MD\", \" DDS\", \" DVM\", \" PhD\"]\n",
    "\n",
    "# Iterate through the \"prefixes_suffixes\" list and replace them with an empty space, \"\" when it appears in the student's name.\n",
    "for word in prefixes_suffixes:\n",
    "    student_data_df[\"student_name\"] = student_data_df[\"student_name\"].str.replace(word,\"\")\n",
    "\n",
    "student_data_df.head(10)\n",
    "\n",
    "    "
   ]
  },
  {
   "cell_type": "code",
   "execution_count": null,
   "id": "7ab78bb5",
   "metadata": {},
   "outputs": [],
   "source": [
    "# Put the cleaned students' names in another list:\n",
    "student_names = student_data_df[\"student_name\"].tolist()\n",
    "student_names"
   ]
  },
  {
   "cell_type": "code",
   "execution_count": null,
   "id": "f8f38ed2",
   "metadata": {},
   "outputs": [],
   "source": [
    "# Create a new list and use it for the for loop to iterate through the list.\n",
    "students_fixed = []\n",
    "\n",
    "# Use an if statement to check the length of the name.\n",
    "\n",
    "# If the name is greater than or equal to 3, add the name to the list.\n",
    "\n",
    "for name in student_names:\n",
    "    if len(name.split()) >= 3:\n",
    "        students_fixed.append(name)\n",
    "\n",
    "# Get the length of the students' names that are greater than or equal to 3.\n",
    "len(students_fixed)\n"
   ]
  },
  {
   "cell_type": "code",
   "execution_count": null,
   "id": "176cd7ba",
   "metadata": {},
   "outputs": [],
   "source": []
  }
 ],
 "metadata": {
  "kernelspec": {
   "display_name": "Python 3 (ipykernel)",
   "language": "python",
   "name": "python3"
  },
  "language_info": {
   "codemirror_mode": {
    "name": "ipython",
    "version": 3
   },
   "file_extension": ".py",
   "mimetype": "text/x-python",
   "name": "python",
   "nbconvert_exporter": "python",
   "pygments_lexer": "ipython3",
   "version": "3.9.7"
  }
 },
 "nbformat": 4,
 "nbformat_minor": 5
}
